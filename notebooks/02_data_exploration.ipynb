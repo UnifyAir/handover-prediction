{
 "cells": [
  {
   "cell_type": "code",
   "execution_count": null,
   "metadata": {},
   "outputs": [],
   "source": [
    "import numpy as np\n",
    "import pandas as pd\n",
    "import matplotlib.pyplot as plt\n",
    "import seaborn as sns\n",
    "\n",
    "# Load the data\n",
    "data_read = pd.read_parquet('mobility_data.parquet')\n",
    "print(\"Dataset shape:\", data_read.shape)\n",
    "print(\"\\nFirst few rows:\")\n",
    "print(data_read.head())"
   ]
  },
  {
   "cell_type": "code",
   "execution_count": null,
   "metadata": {},
   "outputs": [],
   "source": [
    "# Basic statistics\n",
    "print(\"\\nBasic statistics:\")\n",
    "print(data_read.describe())\n",
    "\n",
    "# Check for missing values\n",
    "print(\"\\nMissing values:\")\n",
    "print(data_read.isnull().sum())"
   ]
  },
  {
   "cell_type": "code",
   "execution_count": null,
   "metadata": {},
   "outputs": [],
   "source": [
    "# Visualize user movement patterns\n",
    "plt.figure(figsize=(12, 8))\n",
    "for pattern in data_read['pattern_type'].unique():\n",
    "    pattern_data = data_read[data_read['pattern_type'] == pattern]\n",
    "    plt.scatter(pattern_data['x'], pattern_data['y'], label=pattern, alpha=0.5)\n",
    "plt.title('User Movement Patterns')\n",
    "plt.xlabel('X Position (m)')\n",
    "plt.ylabel('Y Position (m)')\n",
    "plt.legend()\n",
    "plt.show()"
   ]
  },
  {
   "cell_type": "code",
   "execution_count": null,
   "metadata": {},
   "outputs": [],
   "source": [
    "# Analyze handover patterns\n",
    "handover_stats = data_read.groupby('pattern_type')['handover_needed'].agg(['count', 'sum', 'mean'])\n",
    "print(\"\\nHandover statistics by pattern type:\")\n",
    "print(handover_stats)\n",
    "\n",
    "# Visualize handover distribution\n",
    "plt.figure(figsize=(10, 6))\n",
    "sns.countplot(data=data_read, x='pattern_type', hue='handover_needed')\n",
    "plt.title('Handover Distribution by Pattern Type')\n",
    "plt.xticks(rotation=45)\n",
    "plt.show()"
   ]
  },
  {
   "cell_type": "code",
   "execution_count": null,
   "metadata": {},
   "outputs": [],
   "source": [
    "# Network performance analysis\n",
    "plt.figure(figsize=(15, 5))\n",
    "\n",
    "plt.subplot(131)\n",
    "sns.boxplot(data=data_read, x='pattern_type', y='signal_strength')\n",
    "plt.title('Signal Strength by Pattern Type')\n",
    "plt.xticks(rotation=45)\n",
    "\n",
    "plt.subplot(132)\n",
    "sns.boxplot(data=data_read, x='pattern_type', y='network_load')\n",
    "plt.title('Network Load by Pattern Type')\n",
    "plt.xticks(rotation=45)\n",
    "\n",
    "plt.subplot(133)\n",
    "sns.boxplot(data=data_read, x='pattern_type', y='handover_latency')\n",
    "plt.title('Handover Latency by Pattern Type')\n",
    "plt.xticks(rotation=45)\n",
    "\n",
    "plt.tight_layout()\n",
    "plt.show()"
   ]
  },
  {
   "cell_type": "code",
   "execution_count": null,
   "metadata": {},
   "outputs": [],
   "source": [
    "# Time-based analysis\n",
    "plt.figure(figsize=(15, 5))\n",
    "\n",
    "plt.subplot(131)\n",
    "data_read.groupby('hour')['handover_needed'].mean().plot(kind='line')\n",
    "plt.title('Handover Probability by Hour')\n",
    "plt.xlabel('Hour of Day')\n",
    "plt.ylabel('Probability of Handover')\n",
    "\n",
    "plt.subplot(132)\n",
    "data_read.groupby('hour')['network_load'].mean().plot(kind='line')\n",
    "plt.title('Average Network Load by Hour')\n",
    "plt.xlabel('Hour of Day')\n",
    "plt.ylabel('Network Load')\n",
    "\n",
    "plt.subplot(133)\n",
    "data_read.groupby('hour')['signal_strength'].mean().plot(kind='line')\n",
    "plt.title('Average Signal Strength by Hour')\n",
    "plt.xlabel('Hour of Day')\n",
    "plt.ylabel('Signal Strength (dBm)')\n",
    "\n",
    "plt.tight_layout()\n",
    "plt.show()"
   ]
  }
 ],
 "metadata": {
  "kernelspec": {
   "display_name": "Python 3",
   "language": "python",
   "name": "python3"
  }
 },
 "nbformat": 4,
 "nbformat_minor": 4
}